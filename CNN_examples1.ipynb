{
  "nbformat": 4,
  "nbformat_minor": 0,
  "metadata": {
    "colab": {
      "provenance": [],
      "include_colab_link": true
    },
    "kernelspec": {
      "name": "python3",
      "display_name": "Python 3"
    },
    "language_info": {
      "name": "python"
    }
  },
  "cells": [
    {
      "cell_type": "markdown",
      "metadata": {
        "id": "view-in-github",
        "colab_type": "text"
      },
      "source": [
        "<a href=\"https://colab.research.google.com/github/abeebyekeen/DLforBeginners/blob/main/CNN_examples1.ipynb\" target=\"_parent\"><img src=\"https://colab.research.google.com/assets/colab-badge.svg\" alt=\"Open In Colab\"/></a>"
      ]
    },
    {
      "cell_type": "markdown",
      "source": [
        "# **Convolutional Neural Networks (CNNs) and Fully Connected Networks (FCNs)**\n",
        "Welcome to our deep learning lecture where we delve into the fascinating world of Convolutional Neural Networks (CNNs) and Fully Connected Networks (FCNs). This Jupyter Notebook serves as a practical guide and interactive platform for understanding, implementing, and comparing these two pivotal models in the field of deep learning.\n",
        "\n",
        "**Convolutional Neural Networks (CNNs)**\n",
        " This architecture consists of convolutional layers, pooling layers, and fully connected layers, each playing a distinct role in extracting and processing features from input data.\n",
        "\n",
        "**Fully Connected Networks (FCNs)**\n",
        "On the other hand, FCNs, often referred to as dense networks, are a type of neural network where every neuron in one layer is connected to every neuron in the next layer.\n",
        "\n",
        "In this lecture, we aim to:\n",
        "\n",
        "* Implement CNN and FCN models using Pytorch.\n",
        "\n",
        "* Train and compare the two models on a dataset to observe their performance.\n",
        "\n",
        "By the end of this lecture, you will have a deeper understanding of these two neural network architectures, hands-on experience in implementing them, and practical insights into their comparative performance. Let's dive into the world of deep learning and explore the capabilities of CNNs and FCNs!"
      ],
      "metadata": {
        "id": "f4pVCA2uQbY9"
      }
    },
    {
      "cell_type": "code",
      "execution_count": null,
      "metadata": {
        "id": "C4RvY_xgpwLL"
      },
      "outputs": [],
      "source": [
        "# box 3.1\n",
        "#%%  CNN vs FCN example: This dataset is designed to predict the next binary value (1 or 0)\n",
        "# For target 0, the difference between the indices of the two 1s should be an even number.\n",
        "# For target 1, the difference should be an odd number.\n",
        "import torch\n",
        "import numpy as np\n",
        "from torch.utils.data import DataLoader\n",
        "import torch.nn as nn\n",
        "import torch.nn.functional as F\n",
        "import matplotlib.pyplot as plt\n",
        "\n"
      ]
    },
    {
      "cell_type": "markdown",
      "source": [
        "# **CNN vs FCN example**:\n",
        "This dataset is designed to predict the next binary value (1 or 0) of a noisy sine wave, based on the previous n binary values. If you train a model on this dataset, it should learn the underlying periodic pattern of the sine wave, even though the exact values have been binarized and there's added noise.\n"
      ],
      "metadata": {
        "id": "yscnJitSQid8"
      }
    },
    {
      "cell_type": "code",
      "source": [
        "# box 3.2\n",
        "len_data = 100\n",
        "def generate_data(num_samples=500, tensor_length=20):\n",
        "    half_samples = num_samples // 2\n",
        "    data, labels = [], []\n",
        "\n",
        "    # Generate samples for target 0\n",
        "    for _ in range(half_samples):\n",
        "        tensor = torch.zeros(tensor_length)\n",
        "        while True:\n",
        "            idx1 = np.random.choice(range(tensor_length), 1, replace=False)\n",
        "            idx2 = min(idx1+2, tensor_length-1)\n",
        "            if (idx2 - idx1) ==2:  # Check even difference\n",
        "                tensor[idx1], tensor[idx2] = 1, 1\n",
        "                data.append(tensor)\n",
        "                labels.append(0)\n",
        "                break\n",
        "\n",
        "    # Generate samples for target 1\n",
        "    for _ in range(half_samples):\n",
        "        tensor = torch.zeros(tensor_length)\n",
        "        while True:\n",
        "            idx1 = np.random.choice(range(tensor_length), 1, replace=False)\n",
        "            idx2 = min(idx1+1, tensor_length-1)\n",
        "            if (idx2 - idx1) == 1:  # Check odd difference\n",
        "                tensor[idx1], tensor[idx2] = 1, 1\n",
        "                data.append(tensor)\n",
        "                labels.append(1)\n",
        "                break\n",
        "\n",
        "    # Convert to torch tensors\n",
        "    data = torch.stack(data)\n",
        "    labels = torch.tensor(labels)\n",
        "\n",
        "    # Shuffle the data\n",
        "    indices = torch.randperm(num_samples)\n",
        "    return data[indices], labels[indices]\n",
        "\n",
        "data, labels = generate_data(num_samples=500, tensor_length=len_data)\n",
        "# Splitting data into training and testing\n",
        "train_size = int(0.8 * len(data))\n",
        "test_size = len(data) - train_size\n",
        "\n",
        "train_data, test_data = data[:train_size], data[train_size:]\n",
        "train_labels, test_labels = labels[:train_size], labels[train_size:]\n",
        "\n"
      ],
      "metadata": {
        "id": "Shf9TG8ualPY"
      },
      "execution_count": null,
      "outputs": []
    },
    {
      "cell_type": "code",
      "source": [
        "# box 3.3\n",
        "#Let's see some examples of two classes\n",
        "idx_class0 = np.where(train_labels == 0)[0]\n",
        "idx_class1 = np.where(train_labels == 1)[0]\n",
        "for i in range(2):\n",
        "  plt.figure()\n",
        "  plt.plot(torch.squeeze(train_data[idx_class0[i]]))\n",
        "  plt.title(f'Class 0 example {i}')\n",
        "  plt.figure()\n",
        "  plt.plot(torch.squeeze(train_data[idx_class1[i]]))\n",
        "  plt.title(f'Class 1 example {i}')\n"
      ],
      "metadata": {
        "id": "2kweux6YJ77X",
        "colab": {
          "base_uri": "https://localhost:8080/",
          "height": 1000
        },
        "outputId": "f9caa32e-c498-4ef9-8b79-7b0548601109"
      },
      "execution_count": null,
      "outputs": [
        {
          "output_type": "display_data",
          "data": {
            "text/plain": [
              "<Figure size 640x480 with 1 Axes>"
            ],
            "image/png": "[encoded data removed]"
          },
          "metadata": {}
        },
        {
          "output_type": "display_data",
          "data": {
            "text/plain": [
              "<Figure size 640x480 with 1 Axes>"
            ],
            "image/png": "[encoded data removed]"
          },
          "metadata": {}
        },
        {
          "output_type": "display_data",
          "data": {
            "text/plain": [
              "<Figure size 640x480 with 1 Axes>"
            ],
            "image/png": "[encoded data removed]"
          },
          "metadata": {}
        },
        {
          "output_type": "display_data",
          "data": {
            "text/plain": [
              "<Figure size 640x480 with 1 Axes>"
            ],
            "image/png": "[encoded data removed]"
          },
          "metadata": {}
        }
      ]
    },
    {
      "cell_type": "code",
      "source": [
        "# box 3.4\n",
        "# PyTorch \"dataset\" class\n",
        "class MyDataset(torch.utils.data.Dataset):\n",
        "    def __init__(self, X, Y):\n",
        "        self.X = X\n",
        "        self.Y = Y\n",
        "\n",
        "    def __len__(self):\n",
        "        return len(self.Y)\n",
        "\n",
        "    def __getitem__(self,i):\n",
        "        return self.X[i],self.Y[i]\n",
        "#dataset class objects\n",
        "dataset_train = MyDataset(train_data,train_labels)\n",
        "dataset_infer = MyDataset(test_data,train_labels)\n",
        "#dataloaders class objects\n",
        "bs = 16\n",
        "dataloader_train = DataLoader(dataset_train,batch_size=bs, shuffle=True, drop_last=True)\n",
        "dataloader_infer = DataLoader(dataset_infer,batch_size=bs, shuffle=False, drop_last=False)"
      ],
      "metadata": {
        "id": "475IChyvZG7G"
      },
      "execution_count": null,
      "outputs": []
    },
    {
      "cell_type": "markdown",
      "source": [
        "## From the dataset, what CNN model do you think we should design to classify?\n",
        "\n",
        "- What are the input size and output size?\n",
        "- How many layers should we have?\n",
        "- What are sizes of Convolution layers/filters? How to have the model's output size same as tartget output's size?\n",
        "- What is the range of the output?\n",
        "- What activation function (RELU, Sigmoid) will you use and why?\n"
      ],
      "metadata": {
        "id": "dk2YBLkn3su5"
      }
    },
    {
      "cell_type": "code",
      "source": [
        "# box 3.5\n",
        "class CustomConv1DModel(nn.Module):\n",
        "    def __init__(self):\n",
        "        super(CustomConv1DModel, self).__init__()\n",
        "        # Define a Conv1d layer with 1 input channel, 1 output channel, kernel size of 2\n",
        "        self.conv1d = nn.Conv1d(in_channels=1, out_channels=1, kernel_size=2, stride=1)\n",
        "\n",
        "        # Manually set the weights to [...,...] and freeze them\n",
        "        with torch.no_grad():\n",
        "            self.conv1d.weight = nn.Parameter(torch.tensor([[[..., ...]]])) # Enter the weight values\n",
        "            self.conv1d.bias = nn.Parameter(torch.tensor([...])) # Enter the bias values\n",
        "        self.conv1d.weight.requires_grad = False\n",
        "        self.conv1d.bias.requires_grad = False\n",
        "\n",
        "        #comment out ('ctrl'+'/') if you don't want to use linear function\n",
        "        self.fc1 = nn.Linear(..., 1) # use if have two convolution layer. Enter the in_feature\n",
        "        with torch.no_grad():\n",
        "            self.fc1.weight = nn.Parameter(torch.ones((1,...)))\n",
        "            self.fc1.bias = nn.Parameter(torch.tensor([0.0]))\n",
        "        self.fc1.weight.requires_grad = False\n",
        "        self.fc1.bias.requires_grad = False\n",
        "\n",
        "\n",
        "    def forward(self, x):\n",
        "        # Apply the convolution\n",
        "        x = x.unsqueeze(1)\n",
        "        x = self.conv1d(x)\n",
        "        x = F.relu(x)\n",
        "        x = self.fc1(x).squeeze() #comment out ('ctrl'+'/') if you don't want to use linear function\n",
        "        x = torch.sigmoid(x)\n",
        "        return x\n"
      ],
      "metadata": {
        "id": "4jxkj88i3nfD"
      },
      "execution_count": null,
      "outputs": []
    },
    {
      "cell_type": "code",
      "source": [
        "# box 3.6\n",
        "# let's test our defined model\n",
        "my_model = CustomConv1DModel()\n",
        "my_model.eval()\n",
        "with torch.no_grad():\n",
        "    test_outputs = my_model(test_data)\n",
        "    test_outputs = torch.where(test_outputs > 0.5, 1, 0)\n",
        "    correct_cnn = (test_outputs == test_labels).sum().item()\n",
        "    accuracy_cnn = 100 * correct_cnn / test_size\n",
        "    print(f\"CNN Test Accuracy: {accuracy_cnn:.2f}%\")"
      ],
      "metadata": {
        "id": "-rXYmRG1eCxu"
      },
      "execution_count": null,
      "outputs": []
    },
    {
      "cell_type": "code",
      "source": [
        "# box 3.7\n",
        "# CNN Model\n",
        "class TimeCNN(nn.Module):\n",
        "    def __init__(self):\n",
        "        super(TimeCNN, self).__init__()\n",
        "        self.conv1 = nn.Conv1d(1,..., kernel_size=5, padding=2) #Enter the out_channel\n",
        "        # self.fc1 = nn.Linear(..., 1) # use if have only one convolution layer\n",
        "        self.conv2 = nn.Conv1d(....,..., kernel_size=..., padding=...) # use if have two convolution layer. Enter the in_channel,out_channel, kernel_size, and padding)\n",
        "        self.fc1 = nn.Linear(..., 1) # Enter the in_feature values\n",
        "\n",
        "    def forward(self, x):\n",
        "        x = x.unsqueeze(1)  # Add channel dimension\n",
        "        x = F.relu(self.conv1(x))\n",
        "        x = F.relu(self.conv2(x)) # use if have two convolution layer\n",
        "        x = x.view(x.size(0), -1)\n",
        "        x = torch.sigmoid(self.fc1(x))\n",
        "        return x.squeeze()\n",
        "\n",
        "# FCN Model\n",
        "class TimeFCN(nn.Module):\n",
        "    def __init__(self):\n",
        "        super(TimeFCN, self).__init__()\n",
        "        self.fc1 = nn.Linear(len_data,...) #Enter the out_feature\n",
        "        self.fc2 = nn.Linear(..., 1) #Enter the in_feature\n",
        "\n",
        "    def forward(self, x):\n",
        "        x = F.relu(self.fc1(x))\n",
        "        x = torch.sigmoid(self.fc2(x))\n",
        "        return x.squeeze()"
      ],
      "metadata": {
        "id": "RQ7v5iSw2p1i"
      },
      "execution_count": null,
      "outputs": []
    },
    {
      "cell_type": "code",
      "source": [
        "# box 3.8\n",
        "##use dataset with batches\n",
        "criterion = nn.BCELoss()\n",
        "####add batch size\n",
        "### drop the FCN in CNN and replace by max or mean\n",
        "\n",
        "# Train CNN\n",
        "cnn = TimeCNN()\n",
        "# optimizer_cnn = torch.optim.Adam(cnn.parameters(), lr=0.001)\n",
        "optimizer_cnn = torch.optim.Adam(cnn.parameters(), lr=0.001, weight_decay=0.01)\n",
        "epochs = 200\n",
        "loss_cnn_train_mean = []\n",
        "loss_cnn_test_mean = []\n",
        "for epoch in range(epochs):\n",
        "  loss_cnn_train = []\n",
        "  loss_cnn_test = []\n",
        "\n",
        "  # Training loop\n",
        "  for i, batch_data in enumerate(dataloader_train):\n",
        "      x, y = batch_data\n",
        "      optimizer_cnn.zero_grad()\n",
        "      outputs = cnn(x)\n",
        "      loss = criterion(outputs, y.float())\n",
        "      loss.backward()\n",
        "      optimizer_cnn.step()\n",
        "      loss_cnn_train.append(loss.item())\n",
        "\n",
        "  # Compute loss value in testing data\n",
        "  with torch.no_grad():\n",
        "      test_outputs = cnn(test_data)\n",
        "      loss = criterion(test_outputs, test_labels.float())\n",
        "      loss_cnn_test_mean.append(loss.item())\n",
        "  # print(f\"Epoch {epoch+1}/{epochs}, CNN Loss: {loss.item()}\")\n",
        "\n",
        "  loss_cnn_train_mean.append(torch.tensor(loss_cnn_train).mean())\n",
        "\n",
        "loss_cnn_test_mean = torch.tensor(loss_cnn_test_mean)\n",
        "\n",
        "# Train FCN\n",
        "fcn = TimeFCN()\n",
        "# optimizer_fcn = torch.optim.Adam(fcn.parameters(), lr=0.001)\n",
        "optimizer_fcn = torch.optim.Adam(fcn.parameters(), lr=0.001, weight_decay=0.01)\n",
        "loss_fcn_train_mean = []\n",
        "loss_fcn_test_mean = []\n",
        "for epoch in range(epochs):\n",
        "  loss_fcn_train = []\n",
        "  loss_fcn_test = []\n",
        "\n",
        "  # Training loop\n",
        "  for i, batch_data in enumerate(dataloader_train):\n",
        "    x, y = batch_data\n",
        "    optimizer_fcn.zero_grad()\n",
        "    outputs = fcn(x)\n",
        "    loss = criterion(outputs, y.float())\n",
        "    loss.backward()\n",
        "    optimizer_fcn.step()\n",
        "    loss_fcn_train.append(loss.item())\n",
        "\n",
        "  # Compute loss value in testing data\n",
        "  with torch.no_grad():\n",
        "    test_outputs = fcn(test_data)\n",
        "    loss = criterion(test_outputs, test_labels.float())\n",
        "    loss_fcn_test_mean.append(loss.item())\n",
        "  # print(f\"Epoch {epoch+1}/{epochs}, FCN Loss: {loss.item()}\")\n",
        "\n",
        "  loss_fcn_train_mean.append(torch.tensor(loss_fcn_train).mean())\n",
        "loss_fcn_test_mean = torch.tensor(loss_fcn_test_mean)"
      ],
      "metadata": {
        "id": "RZiA29tAZRZ6"
      },
      "execution_count": null,
      "outputs": []
    },
    {
      "cell_type": "code",
      "source": [
        "# box 3.9\n",
        "# Evaluate CNN at\n",
        "cnn.eval()\n",
        "with torch.no_grad():\n",
        "    test_outputs = cnn(test_data)\n",
        "    test_outputs = torch.where(test_outputs > 0.5, 1, 0)\n",
        "    correct_cnn = (test_outputs == test_labels).sum().item()\n",
        "    accuracy_cnn = 100 * correct_cnn / test_size\n",
        "    print(f\"CNN Test Accuracy: {accuracy_cnn:.2f}%\")\n",
        "\n",
        "# Evaluate FCN\n",
        "fcn.eval()\n",
        "with torch.no_grad():\n",
        "    test_outputs = fcn(test_data)\n",
        "    test_outputs = torch.where(test_outputs > 0.5, 1, 0)\n",
        "    correct_fcn = (test_outputs == test_labels).sum().item()\n",
        "    accuracy_fcn = 100 * correct_fcn / test_size\n",
        "    print(f\"FCN Test Accuracy: {accuracy_fcn:.2f}%\")\n"
      ],
      "metadata": {
        "id": "NHrB2CjjqCT3"
      },
      "execution_count": null,
      "outputs": []
    },
    {
      "cell_type": "code",
      "source": [
        "# box 3.10\n",
        "#Plot the loss values\n",
        "import matplotlib.pyplot as plt\n",
        "plt.plot(loss_fcn_train_mean, label=\"FCN - Train\")\n",
        "plt.plot(loss_cnn_train_mean, label=\"CNN - Train\")\n",
        "plt.plot(loss_fcn_test_mean, label=\"FCN - Test\")\n",
        "plt.plot(loss_cnn_test_mean, label=\"CNN - Test\")\n",
        "plt.xlabel('Epoch')\n",
        "plt.legend()\n",
        "plt.title(\"Loss\")\n",
        "plt.show()\n",
        "\n",
        "total_params = sum(p.numel() for p in fcn.parameters())\n",
        "print(f'Number of parameters in FCN: {total_params}')\n",
        "total_params = sum(p.numel() for p in cnn.parameters())\n",
        "print(f'Number of parameters in CNN: {total_params}')\n",
        "\n"
      ],
      "metadata": {
        "id": "GSvputSwgfcL"
      },
      "execution_count": null,
      "outputs": []
    },
    {
      "cell_type": "markdown",
      "source": [
        "# **Discussion:**\n",
        "**Convolutional Neural Networks (CNNs)**\n",
        "CNNs represent a breakthrough in the analysis of visual imagery. They are primarily used in image recognition and processing, leveraging their ability to learn spatial hierarchies of features through their unique architecture. This architecture consists of convolutional layers, pooling layers, and fully connected layers, each playing a distinct role in extracting and processing features from input data.\n",
        "\n",
        "**Fully Connected Networks (FCNs)**\n",
        "On the other hand, FCNs, often referred to as dense networks, are a type of neural network where every neuron in one layer is connected to every neuron in the next layer. This architecture is simple yet powerful and is widely used in various applications beyond image processing, such as speech recognition and natural language processing."
      ],
      "metadata": {
        "id": "a_oXlp0QQpRQ"
      }
    },
    {
      "cell_type": "code",
      "source": [],
      "metadata": {
        "id": "FuID3m9gGYNP"
      },
      "execution_count": null,
      "outputs": []
    }
  ]
}